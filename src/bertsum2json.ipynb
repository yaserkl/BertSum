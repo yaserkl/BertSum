{
 "cells": [
  {
   "cell_type": "code",
   "execution_count": 5,
   "metadata": {},
   "outputs": [],
   "source": [
    "import torch\n",
    "import json\n",
    "import os"
   ]
  },
  {
   "cell_type": "code",
   "execution_count": 14,
   "metadata": {},
   "outputs": [],
   "source": [
    "split = 'valid'\n",
    "pt_file = '/home/yaserkl/data/bertsum/bert/greedy/{}.bert.pt'.format(split)\n",
    "dataset = torch.load(pt_file)"
   ]
  },
  {
   "cell_type": "code",
   "execution_count": 15,
   "metadata": {},
   "outputs": [],
   "source": [
    "#outdir = '/home/yaserkl/data/bertsum/bert/jsons-greedy/{}/'.format(split)\n",
    "outdir = '/home/yaserkl/data/bertsum/bert/jsons-greedy/val/'\n",
    "os.makedirs(outdir)"
   ]
  },
  {
   "cell_type": "code",
   "execution_count": 16,
   "metadata": {},
   "outputs": [],
   "source": [
    "for i, js in enumerate(dataset):\n",
    "    with open('{}/{}.json'.format(outdir, i), 'w') as fw:\n",
    "        json.dump(js, fw)"
   ]
  }
 ],
 "metadata": {
  "kernelspec": {
   "display_name": "Python 3",
   "language": "python",
   "name": "python3"
  },
  "language_info": {
   "codemirror_mode": {
    "name": "ipython",
    "version": 3
   },
   "file_extension": ".py",
   "mimetype": "text/x-python",
   "name": "python",
   "nbconvert_exporter": "python",
   "pygments_lexer": "ipython3",
   "version": "3.6.7"
  }
 },
 "nbformat": 4,
 "nbformat_minor": 2
}
