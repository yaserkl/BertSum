{
 "cells": [
  {
   "cell_type": "code",
   "execution_count": 20,
   "metadata": {},
   "outputs": [],
   "source": [
    "import tensorflow as tf\n",
    "import struct\n",
    "from tensorflow.core.example import example_pb2\n",
    "from collections import Counter\n",
    "from unidecode import unidecode\n",
    "import nltk\n",
    "import json"
   ]
  },
  {
   "cell_type": "code",
   "execution_count": 10,
   "metadata": {},
   "outputs": [],
   "source": [
    "sent_detector = nltk.data.load('tokenizers/punkt/english.pickle')\n",
    "\n",
    "def remove_non_ascii(text):\n",
    "    try:\n",
    "        return unidecode(unicode(text, encoding = \"utf-8\"))\n",
    "    except:\n",
    "        return unidecode(str(text))\n",
    "\n",
    "def abstract2sents(abstract):\n",
    "  \"\"\"Splits abstract text from datafile into list of sentences.\n",
    "\n",
    "  Args:\n",
    "    abstract: string containing <s> and </s> tags for starts and ends of sentences\n",
    "\n",
    "  Returns:\n",
    "    sents: List of sentence strings (no tags)\"\"\"\n",
    "  SENTENCE_START = '<s>'\n",
    "  SENTENCE_END = '</s>'\n",
    "  try:\n",
    "    abstract = abstract.decode(encoding=\"utf-8\", errors=\"strict\")\n",
    "  except:\n",
    "    pass\n",
    "  cur = 0\n",
    "  sents = []\n",
    "  while True:\n",
    "    try:\n",
    "      start_p = abstract.index(SENTENCE_START,cur)\n",
    "      end_p = abstract.index(SENTENCE_END, start_p + 1)\n",
    "      cur = end_p + len(SENTENCE_END)\n",
    "      sents.append(abstract[start_p+len(SENTENCE_START):end_p].strip())\n",
    "    except ValueError as e: # no more sentences\n",
    "      return sents\n"
   ]
  },
  {
   "cell_type": "code",
   "execution_count": 24,
   "metadata": {},
   "outputs": [],
   "source": [
    "mode = 'val'\n",
    "json_dump = []\n",
    "reader = open('/home/yaserkl/data/cnn_dm/finished_files/{}.bin'.format(mode), 'rb')\n",
    "cnt = 0\n",
    "while True:\n",
    "    len_bytes = reader.read(8)\n",
    "    if not len_bytes: break # finished reading this file\n",
    "    str_len = struct.unpack('q', len_bytes)[0]\n",
    "    example_str = struct.unpack('%ds' % str_len, reader.read(str_len))[0]\n",
    "    \n",
    "    e = example_pb2.Example.FromString(example_str)\n",
    "    article_text = remove_non_ascii(e.features.feature['article'].bytes_list.value[0]) # the article text was saved under the key 'article' in the data files\n",
    "    abstract_text = remove_non_ascii(e.features.feature['abstract'].bytes_list.value[0]) # the abstract text was saved under the key 'abstract' in the data files\n",
    "    if len(article_text)==0 or len(abstract_text)==0: # See https://github.com/abisee/pointer-generator/issues/1\n",
    "        continue\n",
    "\n",
    "    article_sents = sent_detector.tokenize(remove_non_ascii(article_text))\n",
    "    abstract_sents = abstract2sents(remove_non_ascii(abstract_text))\n",
    "    _art = [_.split() for _ in article_sents]\n",
    "    _abs = [_.split() for _ in abstract_sents]\n",
    "    json_dump.append({'src':_art, 'tgt':_abs})\n",
    "    cnt +=1"
   ]
  },
  {
   "cell_type": "code",
   "execution_count": 25,
   "metadata": {},
   "outputs": [],
   "source": [
    "with open('/home/yaserkl/data/bertsum/json_data/{}.json'.format(mode), 'w') as fw:\n",
    "    fw.write(json.dumps(json_dump, indent=4))"
   ]
  }
 ],
 "metadata": {
  "kernelspec": {
   "display_name": "Python 3",
   "language": "python",
   "name": "python3"
  },
  "language_info": {
   "codemirror_mode": {
    "name": "ipython",
    "version": 3
   },
   "file_extension": ".py",
   "mimetype": "text/x-python",
   "name": "python",
   "nbconvert_exporter": "python",
   "pygments_lexer": "ipython3",
   "version": "3.6.8"
  }
 },
 "nbformat": 4,
 "nbformat_minor": 2
}
